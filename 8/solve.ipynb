{
 "cells": [
  {
   "cell_type": "markdown",
   "metadata": {},
   "source": [
    "# Part One"
   ]
  },
  {
   "cell_type": "code",
   "execution_count": 1,
   "metadata": {},
   "outputs": [
    {
     "data": {
      "text/plain": [
       "'...............e.........................i........\\n...............................1.......i.0........\\n..............................s.0......d..........\\n........................i....B.I............d.....\\n.............................s....................\\n................J.................................\\n.....................L.....0i.......4...d.........\\n.N...e...........................s..R.....4.....I.\\n........e.........v................1......R....I..\\n.............G..............0.....1...............\\n..2...N.............B......................4...R..\\n..............2...................N..........4s...\\n..p...................................1..b..I.....\\n..................p...........B........b...R......\\n....................................b.............\\n........W.......C.....w...........................\\n............7....u.............B..................\\n...W.................u......................bw....\\n.......p.2...........v......................9.....\\n.E.....C....u................................9....\\nE....Y................u.D........9...........J....\\n.......2..........................................\\n............................J.................c...\\n.............7...K..D..............J..............\\n.....C.Wq........t.................T..............\\n............Yt......v.............................\\n..W......................3...............w........\\n..7.....j................T...D.....n......8.....c.\\n.........E...............nTD......................\\n...r....E..........Y............n.......P........c\\n......K........G......L...........................\\n......................G.....L....v................\\n..............G...t......q.............l.8........\\n......................q............l..............\\n...6........r.............................w..c....\\n..6.........3.......Qk........T...................\\n......Y...............j.................n.........\\n..K.....S.....r......j.....U......9.l......8......\\n........................U......................P..\\n.....................q............................\\n.......K......5..N.....j.7.Q......................\\n...................p..k...U..........L.Q..........\\n.r......3...S.......k........y....8U....Q.......P.\\n.......S....g..3..................................\\n.....S..........gk................................\\n................5...................yP............\\n.......................g......yV..l...............\\n.........6.5...............V......................\\n..................6..5..V.........................\\n.............g.......................y..........V.'"
      ]
     },
     "execution_count": 1,
     "metadata": {},
     "output_type": "execute_result"
    }
   ],
   "source": [
    "with open(\"input.txt\", \"r\") as file:\n",
    "    input = file.read()\n",
    "\n",
    "input"
   ]
  },
  {
   "cell_type": "code",
   "execution_count": 2,
   "metadata": {},
   "outputs": [
    {
     "data": {
      "text/plain": [
       "array([['.', '.', '.', ..., '.', '.', '.'],\n",
       "       ['.', '.', '.', ..., '.', '.', '.'],\n",
       "       ['.', '.', '.', ..., '.', '.', '.'],\n",
       "       ...,\n",
       "       ['.', '.', '.', ..., '.', '.', '.'],\n",
       "       ['.', '.', '.', ..., '.', '.', '.'],\n",
       "       ['.', '.', '.', ..., '.', 'V', '.']], shape=(50, 50), dtype='<U1')"
      ]
     },
     "execution_count": 2,
     "metadata": {},
     "output_type": "execute_result"
    }
   ],
   "source": [
    "import numpy as np\n",
    "\n",
    "map = np.array([list(row) for row in input.split(\"\\n\")])\n",
    "\n",
    "map"
   ]
  },
  {
   "cell_type": "code",
   "execution_count": 3,
   "metadata": {},
   "outputs": [
    {
     "data": {
      "text/plain": [
       "['0',\n",
       " '1',\n",
       " '2',\n",
       " '3',\n",
       " '4',\n",
       " '5',\n",
       " '6',\n",
       " '7',\n",
       " '8',\n",
       " '9',\n",
       " 'B',\n",
       " 'C',\n",
       " 'D',\n",
       " 'E',\n",
       " 'G',\n",
       " 'I',\n",
       " 'J',\n",
       " 'K',\n",
       " 'L',\n",
       " 'N',\n",
       " 'P',\n",
       " 'Q',\n",
       " 'R',\n",
       " 'S',\n",
       " 'T',\n",
       " 'U',\n",
       " 'V',\n",
       " 'W',\n",
       " 'Y',\n",
       " 'b',\n",
       " 'c',\n",
       " 'd',\n",
       " 'e',\n",
       " 'g',\n",
       " 'i',\n",
       " 'j',\n",
       " 'k',\n",
       " 'l',\n",
       " 'n',\n",
       " 'p',\n",
       " 'q',\n",
       " 'r',\n",
       " 's',\n",
       " 't',\n",
       " 'u',\n",
       " 'v',\n",
       " 'w',\n",
       " 'y']"
      ]
     },
     "execution_count": 3,
     "metadata": {},
     "output_type": "execute_result"
    }
   ],
   "source": [
    "frequencies = np.unique(map).tolist()\n",
    "frequencies.remove(\".\")\n",
    "\n",
    "frequencies"
   ]
  },
  {
   "cell_type": "code",
   "execution_count": 4,
   "metadata": {},
   "outputs": [
    {
     "data": {
      "text/plain": [
       "array([[False, False, False, ..., False,  True, False],\n",
       "       [False, False, False, ..., False, False, False],\n",
       "       [False, False, False, ..., False, False, False],\n",
       "       ...,\n",
       "       [ True, False, False, ..., False, False, False],\n",
       "       [False, False, False, ..., False, False, False],\n",
       "       [False, False, False, ..., False, False, False]], shape=(50, 50))"
      ]
     },
     "execution_count": 4,
     "metadata": {},
     "output_type": "execute_result"
    }
   ],
   "source": [
    "def permut(list):\n",
    "    if len(list) == 2:\n",
    "        return [(list[0], list[1])]\n",
    "    else:\n",
    "        return [(list[0], el) for el in list[1:]] + permut(list[1:])\n",
    "\n",
    "\n",
    "def vec_diff(pos1, pos2):\n",
    "    return (pos2[0] - pos1[0], pos2[1] - pos1[1])\n",
    "\n",
    "\n",
    "def vec_add(pos, vec):\n",
    "    return (pos[0] + vec[0], pos[1] + vec[1])\n",
    "\n",
    "\n",
    "def vec_inv(vec):\n",
    "    return (-vec[0], -vec[1])\n",
    "\n",
    "\n",
    "def bounds_check(array, vec):\n",
    "    shape = array.shape\n",
    "\n",
    "    return 0 <= vec[0] < shape[0] and 0 <= vec[1] < shape[1]\n",
    "\n",
    "\n",
    "antinode_map = np.zeros_like(map, dtype=np.bool)\n",
    "\n",
    "for frequency in frequencies:\n",
    "    indices = np.where(map == frequency)\n",
    "    positions = list(zip(indices[0].tolist(), indices[1].tolist()))\n",
    "\n",
    "    position_pairs = permut(positions)\n",
    "\n",
    "    for pos1, pos2 in position_pairs:\n",
    "        diff_vec = vec_diff(pos1, pos2)\n",
    "\n",
    "        ant_1 = vec_add(pos1, vec_inv(diff_vec))\n",
    "        ant_2 = vec_add(pos2, diff_vec)\n",
    "\n",
    "        if bounds_check(map, ant_1):\n",
    "            antinode_map[ant_1] = 1\n",
    "        if bounds_check(map, ant_2):\n",
    "            antinode_map[ant_2] = 1\n",
    "\n",
    "antinode_map"
   ]
  },
  {
   "cell_type": "code",
   "execution_count": 5,
   "metadata": {},
   "outputs": [
    {
     "data": {
      "text/plain": [
       "329"
      ]
     },
     "execution_count": 5,
     "metadata": {},
     "output_type": "execute_result"
    }
   ],
   "source": [
    "np.count_nonzero(antinode_map)"
   ]
  },
  {
   "cell_type": "markdown",
   "metadata": {},
   "source": [
    "# Part Two"
   ]
  },
  {
   "cell_type": "code",
   "execution_count": 6,
   "metadata": {},
   "outputs": [
    {
     "data": {
      "text/plain": [
       "array([[ True, False, False, ..., False,  True, False],\n",
       "       [ True,  True, False, ..., False, False, False],\n",
       "       [ True, False, False, ...,  True,  True, False],\n",
       "       ...,\n",
       "       [ True, False, False, ...,  True, False, False],\n",
       "       [False, False, False, ..., False, False, False],\n",
       "       [False, False,  True, ...,  True, False,  True]], shape=(50, 50))"
      ]
     },
     "execution_count": 6,
     "metadata": {},
     "output_type": "execute_result"
    }
   ],
   "source": [
    "new_antinode_map = np.zeros_like(map, dtype=np.bool)\n",
    "\n",
    "for frequency in frequencies:\n",
    "    indices = np.where(map == frequency)\n",
    "    positions = list(zip(indices[0].tolist(), indices[1].tolist()))\n",
    "\n",
    "    position_pairs = permut(positions)\n",
    "\n",
    "    for pos1, pos2 in position_pairs:\n",
    "        diff_vec = vec_diff(pos1, pos2)\n",
    "        inv_diff_vec = vec_inv(diff_vec)\n",
    "\n",
    "        ant_1 = pos1\n",
    "\n",
    "        while bounds_check(map, ant_1):\n",
    "            new_antinode_map[ant_1] = 1\n",
    "            ant_1 = vec_add(ant_1, inv_diff_vec)\n",
    "\n",
    "        ant_2 = pos2\n",
    "\n",
    "        while bounds_check(map, ant_2):\n",
    "            new_antinode_map[ant_2] = 1\n",
    "            ant_2 = vec_add(ant_2, diff_vec)\n",
    "\n",
    "new_antinode_map"
   ]
  },
  {
   "cell_type": "code",
   "execution_count": 7,
   "metadata": {},
   "outputs": [
    {
     "data": {
      "text/plain": [
       "1087"
      ]
     },
     "execution_count": 7,
     "metadata": {},
     "output_type": "execute_result"
    }
   ],
   "source": [
    "np.count_nonzero(new_antinode_map)"
   ]
  }
 ],
 "metadata": {
  "kernelspec": {
   "display_name": "Python 3",
   "language": "python",
   "name": "python3"
  },
  "language_info": {
   "codemirror_mode": {
    "name": "ipython",
    "version": 3
   },
   "file_extension": ".py",
   "mimetype": "text/x-python",
   "name": "python",
   "nbconvert_exporter": "python",
   "pygments_lexer": "ipython3",
   "version": "3.11.11"
  }
 },
 "nbformat": 4,
 "nbformat_minor": 2
}
