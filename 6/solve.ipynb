{
 "cells": [
  {
   "cell_type": "code",
   "execution_count": 10,
   "metadata": {},
   "outputs": [
    {
     "name": "stdout",
     "output_type": "stream",
     "text": [
      "Requirement already satisfied: numpy in /Users/leodriesch/Development/aoc-2024/.conda/lib/python3.11/site-packages (2.2.1)\n",
      "Requirement already satisfied: tqdm in /Users/leodriesch/Development/aoc-2024/.conda/lib/python3.11/site-packages (4.67.1)\n",
      "Note: you may need to restart the kernel to use updated packages.\n"
     ]
    }
   ],
   "source": [
    "%pip install -U numpy tqdm"
   ]
  },
  {
   "cell_type": "markdown",
   "metadata": {},
   "source": [
    "# Part One"
   ]
  },
  {
   "cell_type": "code",
   "execution_count": 11,
   "metadata": {},
   "outputs": [
    {
     "data": {
      "text/plain": [
       "array([['.', '.', '.', ..., '.', '.', '.'],\n",
       "       ['.', '.', '.', ..., '.', '.', '.'],\n",
       "       ['.', '.', '.', ..., '.', '.', '.'],\n",
       "       ...,\n",
       "       ['#', '.', '#', ..., '.', '.', '.'],\n",
       "       ['.', '.', '.', ..., '.', '.', '.'],\n",
       "       ['.', '.', '.', ..., '.', '.', '.']], shape=(130, 130), dtype='<U1')"
      ]
     },
     "execution_count": 11,
     "metadata": {},
     "output_type": "execute_result"
    }
   ],
   "source": [
    "import numpy as np\n",
    "\n",
    "with open(\"input.txt\", \"r\") as file:\n",
    "    input = file.read().split(\"\\n\")\n",
    "\n",
    "input = np.array([list(string) for string in input])\n",
    "\n",
    "input"
   ]
  },
  {
   "cell_type": "code",
   "execution_count": 12,
   "metadata": {},
   "outputs": [
    {
     "data": {
      "text/plain": [
       "['..........#...X......#.#.......................................................................#...............#......#...#.......',\n",
       " '..........XXXXXXXXXXXXXXXXXXXXXXXXXXXXXX#..#..........#.........#..#..............................................................',\n",
       " '.........#X...X........................X...........................XXXXXXXXXXXXXXXXXXXXXXXXXXXXXXXXXXXXXXXXXXXXXX#................',\n",
       " '..........X...X...................#.#..X...........................X...#..#.......#.....#.#............#.#......X.................',\n",
       " '...#......X...X........................X...................#.......X.#...................#XXXXXXXXXXXXXXXXX#....X.................',\n",
       " '..........X...X#.........#...........#.X...........................X..................#...X..........#....X.....X#.............#..',\n",
       " '..........X...X....#..#..XXXXXXXXXXXXXXXXXXXXXXXXXXXXXXXXXXXXXXXXXXXXXXXXXXXXXXXXXXXXXXXX#X...............X.....X.................',\n",
       " '........##X...X..........X.............X##.........................X......#.............X.X.....#...#.....X.....X.................',\n",
       " '..........X...X..........X......#......XXXXXXXXXXXXX#...........#.#XXXXXXXXXXXXXXXXXXXXXXXXXXXXXXXXXXXXXXXX.....X.............#...',\n",
       " '......#...X..#XXXXXXXXXXXXXXXXXXXXXXXXXXX..........X.....#..............................X.X...........#...#..#..X.#...............',\n",
       " '......XXXXXXXXXXXXXXXXXXXXXX#...#......#X....#.....X...#...#..#..............#....#.....X.X...........#.........X...............#.',\n",
       " '......X...X.........##.#.X.X....#.......X.#........X....#......................#.#....#.X.X..........#XXXXXXXXXXXXXXXXXXXXXXXX#..#',\n",
       " '#.....X...X..........#...X.X#..........#XXXXXXXXXXXXXXXXXXXXXXXXXXXXXXXXXXXXXXXXXXXXXXXXXXXXXXXXXXXXXXXXXXXXXXXXX.......#....X....',\n",
       " '......X...X...#..........X.XXXXXXXXXXXXXXXXXXXXXXXXXXXXXXXXXXXXXXXXXXXXXXXXX#...........X.X...........X#........#.....#......X...#',\n",
       " '......X...X..........#...X.XX.#......##.#.........#X.........#.##..........X............X.X...........X.#....#...............X....',\n",
       " '......X...X..............X.XX...........XXXXXXXXXXXXXXXXXXXXXXXX#..#.......X...#........X#XXXXXXXXXXXXXXXXXXXXXXXXXXXXXXXXXXXX....',\n",
       " '......X...X....#.........X#XX#....#.#.#.X..........X...........X.........#.X...XXXXXXXXXXXXXXXXXXXXXXXXXXX#..................#....',\n",
       " '......X...X........#....#XXXXXXXXXXXXXXXXXXXXXXXXXXXXXXXXXXXXXXXXXXXXXXXXXXX...X........X.............X..X........................',\n",
       " '....#.X...X.............XXXXXXXXXXXXXXXXXXXXXXXXXXXXXXXXXXXXX#.X....#......#...X........X.............X..X.........#............#.',\n",
       " '......X...X.............X..XX...........X.......#..X#.......X..X...........XXXXXXXXXXXXXXXXXXXXXXXXXXXXXXXXXXXXX#.................',\n",
       " '......X...X...#.........X..XX...........X..#.#.....X........X..X...........X...X.......#X...#.........X..X.....X..................',\n",
       " '......X...X#..XX#......#XXXXXXXXXXXXXXXXXXXXXXXXXXXXXXXXXXXXXXXXXXXXXXXXXXXXXXXXXXXXXXXXX.#.....#.....X..X.#...X.........#.#......',\n",
       " '......X...X...XXXXXXXXXXXXXXXXXXXXXXXXXXXXX#.......X#.#.....X..X#..........X...X..#.....#.............X..X.....X..................',\n",
       " '......X...X..#XXX......#...XX...........X.X......#.X....#...X..X...........X..#X#.....................X..X.....X..................',\n",
       " '......X...X..#XXX..#.......XX.......#...X.X......XXXXXXXXXXXXXXXXXXXXXXXXXXXXXXXXXXXXXXX#.............X..X.....X..................',\n",
       " '..#...X#..X...XXX...#......XX........#..X.X......X.X........X..X.#.........X...X....#..X.........#....X..X.....X..................',\n",
       " '#.....X...X...XXX..........XX...........X.X......X.X........X#.X....#......X...X.......X..............X#.X.....X.......#.......#..',\n",
       " '......X...X...XXX........#.XX#..........X.X......X.X........X..X....XXXXXXXXXXXXXXXXXXXXXXXXXXX#..#...X..X.....X..............#..#',\n",
       " '......X...X...XXX#.........XX...........X.X......X.X.....#..X..X....X......X...X.......X.#...#X..#....X..X....#X.........#........',\n",
       " '......X...X...XXX.....#....XX...#.......X.X.....#X.X...#....X..X....X......X...X.......X#.#...X#......X#.X.....X..................',\n",
       " '.#....X.##XXXXXXXXXXXXXXXXXXX...........X.X#.....X.X........X#.X.#..X......X...X...#...X......X.......X..X.....X................#.',\n",
       " '..#...X.XXXXXXXXXXXXX#.....#X#......#...X.X......X.X........X..X....X#..#..X#..X...##..X.#....X.....#.X..X.....X.......#..........',\n",
       " '......X.X.....XXX...X.......XXXXXXXXXXXXXXXXXXXXXXXXXXXXXXXXXXXXXXXXXXXXXXXXXXXXX#.....X......X.......X..X.....X.....#............',\n",
       " '......X.X.....XXX...X.......XX#..#......X.X......X.X........X..X.#..X.#....X...XX......X......X.....#.X..X..#..X...............#..',\n",
       " '......X.X.#...XXX..#X.......XX..........X.X......X.X.....#..X..X....X...#..X..#XX#.....X......X...#...X..X.#.#.X................#.',\n",
       " '......X.X.....XXX..XXXXXXXXXXXXXXXXX#...X#X......X.X#.......X##X....X......X...XX......X......X.......X..X.....X..................',\n",
       " '......X#X.....XXX..XX.......XX.....X##..X.X..#...X#X........X.XXXXXXXXXXXXXXXXXXXXXXXXXXXXXXXXXXXXXXXXXXXXXXXXXXXXX#.#............',\n",
       " '......X.X.....XXX..XX..#....XX.....X....X.X..XXXXXXXXXXXXXXXXXXXXXXXXXXXXXXXXX#XX......X......X.#.....X..X.....X..X...............',\n",
       " '......X#XXXXXXXXX..XX......#XXXXXXXXXXXXXXXXXXXXXXXXXXXXXXXXXXXXXXXXXXXXXXXXXXXXXXXXXXXXXXXXXXXXXXXXXXXXXXXXXXXX..X...........#...',\n",
       " '......X..#....X#X..XX........X.....X....X.X..X..#X.X........X.XX#...X....#.X.X.XX......X......X.......X..X.....#..X.............#.',\n",
       " '..#...X.......X.X..XX........X#....X#...X.X..X.#.X.X........X.XX....X......X.X.XX......X....#.X......#X..X....#.#.X...............',\n",
       " '...#..X......#XXXXXXXXXXXXXXXXXXXXXX....X.X#.X...X#X........X.XX....X....#.X.X.XX......X......X.......X..X.......#X......#.......#',\n",
       " '......X.........X..XX....#...X.....#....X.X.#X...X.X........X.XX.#..X......X.X.XX...#..X.#...#X.......X..X.....#..X...............',\n",
       " '......X........#XXXXXXXXXXXXXXXXXXXXXXXXXXXXXXXXXXXX........X.XX....X#....#X.X.XX......X....#.X.......X..X........X...............',\n",
       " '......X#.......#...XX#.......X.....#....X.X..X.#.X.#........X.XX....X......X.X..X.....#X..#.#.X..#....X..X........X........#......',\n",
       " '......X......#.....XX........X....#XXXXXXXXXXXXXXXXXXXXXXXXXXXXXXXXXXXXXXXXXXXXXXXXXX#.X......X.......X..X.....#..X...............',\n",
       " '......X............XX........X.....X....X.X..X...X....##....X.XX....X......X.X..X...X..X......X.......X..X........X...............',\n",
       " '......X............XX........X.....X.#..X.X..X...X..........X.XX....X......X.X..X...X..X......X.......X..X.#......X.....#..#....#.',\n",
       " '#.....X............XX..#.....X.....X....X.X.#X..#X..........X.XX...#X...#..X.X..X...X..X......X.......X..X......#.X......#........',\n",
       " '.#....X............XX........X.....X....X.X..X...X..........X.XX....X..#...X.X..X...X..X......X....#..X..X........X.....##........',\n",
       " '......X.....#......XX....#...X.....X....X.X..X...X.#........X#XX....X......X.X..X..#X.#X......X#......X..X........X............#..',\n",
       " '......X#..#........XX........X.....X....X.X..X...X..........X.XX....X.#..#.X.X..X.#.X..X......X....#..X..X........X.#.............',\n",
       " '......X............XX........X.....X....X.X..X...X..........X.XX....X.XXXXXXXXXXXXXXXXXXXXXXXXXXXXXXXXXXXXXXXX#...X...............',\n",
       " '..#...X............XX........X.#...X.#..X.X..X...X.#........X.XX...#XXXXXXXXXXXXXXXXXXXXXXXXXXXXXXXXXXXXXX...X....X...#...........',\n",
       " '..#...X....#.......XX........X.....X....X.X..X...X.XXXXXXXXXXXXXXXXXXXXXXXXXXXXXXXXXXX#X......X...#...X.##...X....X..........#....',\n",
       " '..#...X.....#......XX........X.....X....X.X..X..#X.X........X.XX......X....X.X..X...XX.X......X.......X......X....X...............',\n",
       " '...#.#XXXXXXXXXXXXXXX.......#X.....X#...X.X..X..#XXXXXXXXXXXXXXXXXXXXXXXXXXXXXXXXXXXXXXXXXXXXXX.......X...#..X....X..#............',\n",
       " '.............#.....X#........X...#.X....X.X..X.....X........X.XX......X....X.X..X...XX.X......#......#X......X....X...............',\n",
       " '..............#....X.#.......X...XXXXXXXXXXXXXXXXXXXXXXXXXXXXXXXXXXXXXXXXXXXXXXXXXXXXXXXXXXXXXXXXXXXXXXXXXXXXXXXXXXXXXXXX#........',\n",
       " '..............#.#..X.XXXXXXXXXXXXXXXXXXXXXXXXXXXXXXXXXXXXXXXXXXXXXXXXXXXXXXXXXXXXXXXXXXXXXXXX#......##X......X....X.....X.........',\n",
       " '...........#.......X.X.......X..#X.X....X.X..X.....X#......#X.XX......X...#X.X..X...XX.X....X.......#.X...#..X#...X.....X...#.....',\n",
       " '.................#.X.X..#....X..XXXXXXXXXXXXXXXXXXXXXXXXXXXXXXXXXXXXXXXXXXXXXXXXXXXXXXXXXXXXXXXXXXXXXXXXX#...X....X.....X#........',\n",
       " '..#................X.X.......X..XX.X....X.X..X.....X........X.XX......X....X.X..X...XX.X....X.#.......X.X....X....X.....X.........',\n",
       " '#.............#....X.X.......X..XX.X..#.X#X..X.....X........X.XX......X....X.X.#X.#.XX.X#...X.........X.X....X#...X.....X.........',\n",
       " '.........#..#...#..X.X.#.....X.#XX.X....X.X..X.....X........X.XX#.....X....X.X.#X...XX.X.#..X.........X.X....X....X.#...X..#......',\n",
       " '.....##...........#XXXXXXXXXXXXXXXXXXXXXXXXXXXXXXXXXXXXXXXXXXXXXXXXXXXXXXXXXXXXXXXXXXXXXXXXXXXXXXXXXXXXXXXXXXX....X#....X.....#...',\n",
       " '.#.........#.........X.......X..XX.X....X.X..X.....X........X.XX##....X....X.X..X...XX.X....X..#...#..X.X....#....X.....X.........',\n",
       " '............#........X.......X..XX.X....X.X.#X#....X........X.XX......X....X.X..X...XX.X....X.#.......X.X.........X.....X.....#...',\n",
       " '.....................X.......X.#XX.X....X.X..X....#X........X.XX......X....X.X#.X...XX.X....X.........X.X.........X.....X....#....',\n",
       " '.#..........#....#...X.......X.#XX.X.#..X.X..X.....X.......#X.XX......X....X.X..X#..XX.X....X........#XXXXXXXXXXXXX.....X......#..',\n",
       " '.....................X.......X..XX.X....X.X..X.....X........X#XX......X....X.X##X...XX.X....X.#.........X.........#.....X.........',\n",
       " '.....................X....##.X..XX.X.#..X.X..X.....X........X.XX......X....X.X..X...XX.X....X.XXXXXXXXXXXXXXXXXXXXXXXX#.X.........',\n",
       " '........#..#.........X.......X..XX.X...#XXXXXXXXXXXXXXXXXXXXXXXXXXXXXXXXXXXXXXXXXXXXXXXX....X.X.........X..#.........X..X.........',\n",
       " '..#.....#............X.......X..XX.X......X..X.....X........X.XX......X....X#X..X.#.XX.#..#.X.X...#.....X.#.....#....X#.X.........',\n",
       " '.....................X.......X..XX.X#.....X.#X...#.X........X.XX......X....X.X..X...XX..#...X.X.........X........#...X..X....#....',\n",
       " '...............#.....X.......X#.XX.X......X..X..#..X........X.XX#....#XXXXXXXXXXXXXXXXXXXXXXXXXXXXXXXXXXXXXXXXXXXXXXXX..X.#.......',\n",
       " '....#................X.#.....X..XX.X......X..X..XXXXXXXXXXXXXXXXXXXXXXXXXXXXXXXXXXXXXXXXXXXXXXXXXX#.....X.#..........#..X.........',\n",
       " '..#..................X.XXXXXXXXXXXXXXXXXXXXXXXXXXXXXXX#.....X.XX......#....X.X..X...XX......X.X..X....#.X....#..........X.....#...',\n",
       " '.......#............#X.X.....X..XX.X......X..X..X#.X.X......X.XX...........X.X..X...XX...#..X#X..X......X.........##....X.........',\n",
       " '.....................X.X.....X.#XX.X...#..X..X..X..X.X......X.XX........#..X.X..X...XX.#....X.X..X......X...#...........X.........',\n",
       " '.....................X.X...#.X..XX.X...XXXXXXXXXXXXXXXXXXXXXXXXXXXXXXXXXXX#X.X..X...XX.XXXXXXXXXXXXXXXXXXXXXXXXXXXXXX#.#X.#.......',\n",
       " '....#........#.......X.X.....X..XX#XXXXXXXXXXXXXXXXXXXXXXXXXXXXXXXXXXXXXXXXXXXXXX...XX.X....X.X..X......X...........X...X.....#...',\n",
       " '#..................#.X.X.....X..XX.....X.#X..X..X..X.X......X.XX.........X.X.X#.#...XX.X....X#XXXXXXXXXXX........#..X...X.........',\n",
       " '....#........#...#...X.X.....X..XX.....X..X..X#.X.#X.X......X.XX.........X#X.X......XX.X..#.X....X.#....#...........X...X.........',\n",
       " '.....................X.X.....X..XX.....X..X..X..X..X.X......X.XX.........X.X.X......XX.X....X#...X#...............#.X#..X.........',\n",
       " '.........#..........#XXXXXXXXXXXXXXXXXXXXXXXXXXXXXXXXXXXXXXXXXXXXXXXXXXXXXXXXX..#.#.XX.X....X....X.........#........X...X.....#...',\n",
       " '.......................X.....X..XX...#.X..X..X..X..X.X#.....X.XX#.#......X.X.##.....XX.X....X....X...#..#...........X...X.........',\n",
       " '.....#..#..............X.....X..XX.....X..X..X..X..X.X......X.XX.........X.X..#.#...XX.X....X....X...............##.X...X.........',\n",
       " '.......................X.....X.#XX..#.#X..X..X..X..X.X......X.XX.........X.X........XX.X.#.#X....X..................X#..X.....#...',\n",
       " '#......................X.....X..XX.....X##X..X.#X..X.X......X.XX.........X#X.#......XX.X....X....X#.........#.......X..#X.........',\n",
       " '......#.#.............#X...##XXXXXXXXXXXXXXXXXXXXXXXXXXXXXXXXXXX.........X.X........XX.X....X...#X...............#..X.#.X....#....',\n",
       " '..................#...#XXXXXXXXXXXXXXXXXXXXXXXXXXXXXXXXXXXXXX.X#.........X.X........XX.X....X....X......#...#.......X...X.........',\n",
       " '....................#...#.......XX..##.X..X..X..X..X.X...#..#.X..#.......X.X........XX.X....X..#.X....#............#X...X.........',\n",
       " '.........#..........XXXXXXXXXXXXXXXXXXXXXXXXXXXXXXXXXXXXXXXXXXXXXXXXXXXXXXXXXXXXXXX#XX.X....X.#..X..................X...X.........',\n",
       " '....................X...........XX....#XXXXXXXXXXXXXXXXXXXXXXXXXXXXXXXXXXXXXXXXXXXXXXX.X....X....X........#.#.#.....X...X........#',\n",
       " '.......#...#.....#..X.....#.....XX.......#X..X..X..X.X....#...X..........X.X......X.#X#XXXXXX....X#.#.............#.X...X.#.......',\n",
       " '...#................X#......#...XX......#.X..X..X..X.X#.......X..........X.X......X..X......#....X..................X...X.........',\n",
       " '.#..................X.......XXXXXXXXXXXXXXXXXXXXXXXXXXXXXXXXXXXXXXXXXXXXXXXXXXXXXXXXXXXXXXXXXXXXXXXXXXXXXXXXX#......X...X.........',\n",
       " '............#.......X..#....X...XX........X..X.#XXXXXXXXXXXXXXXXXXXXXXXXXXXXXXXXXXXXXX...........X..........X.......X...X..#....#.',\n",
       " '......#....#...#....X.......X...XX.......#X..X..#..X.X........X........##X.X.#....X..#...........X.........#X...#...X...X.........',\n",
       " '....................X.......X...XX..#.....X..X.....X.X........X#.......#.X.X...#..X..............X..........X.......X.#.X......##.',\n",
       " '...................#XXXXXXXXXXXXXXXXXXXXXXXXXXXXXXXXXX........X..........X.X......X..............X....#.....X.......X#.#X.........',\n",
       " '....#.......................X..#XXXXXXXXXXX..X.....X.#.#......X..#...#...X.X#..#..X.#............X..........X.......X...X.........',\n",
       " '..................#......#..X....X........#..X.....X..........X..........X.X......X#...#........#X..........X.......X...X.........',\n",
       " '............................X..#.X.......#...X.....X..........X..........X.X......X.........#....X..........X.......X...X.........',\n",
       " '..................#.........X....X...........X.....X..........X..#.......X.X.....#X..........#..#X..........X.......X...X.........',\n",
       " '...........................#XXXXXXXXXXXXXXXXXXXXXXXXXXXXXXXXXXXXXXXXXXXXXXXXXXXXXXX.#........#...X..........X.......X...X.........',\n",
       " '.................#.......#.......X.##........X....#X..#....#..X..........X.X......#.......#......X..........X.......X...X.........',\n",
       " '...........#...............#.....X...........X.....X..XXXXXXXXXXXXXXXXXXXXXXXXXXXXXXXXXXXXXXXXXXXXXX#.#.....X.......X...X.........',\n",
       " '...........#..........#..........X...........X...#.X..X.......X........#.X.X#.........#..........X.X......##X..#....X...X#........',\n",
       " '.......#.............#........#..X...........X.....X..X.......X..........X#XXXXXXXXXXXXXXXXXXXXXXXXXXXXXXXXXXXXXXXXXXXXXX...#.#...',\n",
       " '.....................#...........X...........X.....X..X.#.#...X..#.......X...........#...........X.X........X..#...#X...#..##.....',\n",
       " '.......#...................#.....X.......#..#X.....X..X.......X..........X.......................X.X........X..#....X.............',\n",
       " '..#........#.....................X..#........X...#.X#.X.#.....X..........X..........#............X.X........X.......X......#.#....',\n",
       " '.............................#..#X......#....X....#XXXXXXXXXXXXXXXXXXXXXXXXXXXXXXXXXXXXXXXXXXXXXXXXXXXXXXXXXX.......X...##...#....',\n",
       " '..............##................#X...........X........X..#....X..........X.......................X.X........#.....#.X.#...........',\n",
       " '.............#..............#....X.#.........X........X.......X..........X.......................X#X................X.#...........',\n",
       " '#...#............#...........##..X..........#XXXXXXXXXXXXXXXXXXXXXXXXXXXXX.............#.........X.X................X.............',\n",
       " '..........................#.....#X..................#.X.......X..........#................#......X.X................X.............',\n",
       " '.................................X...................#XXXXXXXXXXXXXXXXXXXXXXXXXXXXXXXXXXXXXXXXXXXX.X................X...#...#.....',\n",
       " '..................#.#........#...X#.#.#..#...........XXXXXXXXXXXXXXXXXXXXXXXXXXXXXXXXXXXX#.....###.X#...............X.........#...',\n",
       " '.#...#.........#..........#......X...................X........X.........................X.........#X#............#..X.........#...',\n",
       " '...#.............................X#..................X........X.#.#.....................X..........X...........#....X.............',\n",
       " '#................................X...............#..#XXXXXXXXXXXXXXXXXXXXXXXXXXXXXXXXXXXXXXXXXXXXXXX...........#....X..........#.#',\n",
       " '.................................X......#.............#.......X......#...............#..X......#...#................X.............',\n",
       " '..............................#..X..............#.............X....#................#...X.#.......#..........#......X.............',\n",
       " '............#.......#...........#XXXXXXXXXXXXXXXXXXXXXXXXXXXXXXXXXXXXXXXXXXXXXXXXXXXXXXXXXXXXXXXXXXXXXXXXXXXXXXXXXXXX.....#.......',\n",
       " '#.#..............................#................#.#.........X.........#...............X.....#.....................#......#......',\n",
       " '.....#..#.......##...........................................#XXXXXXXXXXXXXXXXXXXXXXXXXXX.#.......................................',\n",
       " '.......#..#..#.........#..........................#.#....#..........................#...#........................#.....#..........']"
      ]
     },
     "execution_count": 12,
     "metadata": {},
     "output_type": "execute_result"
    }
   ],
   "source": [
    "from typing import List\n",
    "from tqdm import tqdm\n",
    "\n",
    "DIRECTIONS = [\"^\", \">\", \"v\", \"<\"]\n",
    "\n",
    "\n",
    "def get_next_direction(direction):\n",
    "    return DIRECTIONS[(DIRECTIONS.index(direction) + 1) % len(DIRECTIONS)]\n",
    "\n",
    "\n",
    "def get_next_position(position, direction):\n",
    "    y, x = position\n",
    "\n",
    "    if direction == \"^\":\n",
    "        return (y - 1, x)\n",
    "    elif direction == \">\":\n",
    "        return (y, x + 1)\n",
    "    elif direction == \"v\":\n",
    "        return (y + 1, x)\n",
    "    elif direction == \"<\":\n",
    "        return (y, x - 1)\n",
    "    else:\n",
    "        raise ValueError(\"Invalid direction\")\n",
    "\n",
    "\n",
    "def run_simulation(map):\n",
    "    pos_dir_history = np.zeros(map.shape + (len(DIRECTIONS),))\n",
    "\n",
    "    guard_pos = np.where((map == \"^\") | (map == \">\") | (map == \"v\") | (map == \"<\"))\n",
    "    guard_pos = guard_pos[0][0], guard_pos[1][0]\n",
    "\n",
    "    guard_dir = map[guard_pos]\n",
    "\n",
    "    while True:\n",
    "        # EXIT: Walked out of bounds\n",
    "        if (\n",
    "            guard_pos[0] < 0\n",
    "            or guard_pos[0] >= len(map)\n",
    "            or guard_pos[1] < 0\n",
    "            or guard_pos[1] >= len(map[guard_pos[0]])\n",
    "        ):\n",
    "            return map, 0\n",
    "\n",
    "        # EXIT: Got stuck in loop (visited same position and direction previously)\n",
    "        if pos_dir_history[guard_pos + (DIRECTIONS.index(guard_dir),)] == 1:\n",
    "            return map, 1\n",
    "\n",
    "        pos_dir_history[guard_pos + (DIRECTIONS.index(guard_dir),)] = 1\n",
    "\n",
    "        next_pos = get_next_position(guard_pos, guard_dir)\n",
    "\n",
    "        # EXIT: Will walk out of bounds\n",
    "        if (\n",
    "            next_pos[0] < 0\n",
    "            or next_pos[0] >= len(map)\n",
    "            or next_pos[1] < 0\n",
    "            or next_pos[1] >= len(map[next_pos[0]])\n",
    "        ):\n",
    "            map[guard_pos] = \"X\"\n",
    "            return map, 0\n",
    "\n",
    "        if map[next_pos] == \"#\":\n",
    "            map[guard_pos] = guard_dir = get_next_direction(guard_dir)\n",
    "        else:\n",
    "            map[guard_pos] = \"X\"\n",
    "            guard_pos = next_pos\n",
    "            map[guard_pos] = guard_dir\n",
    "\n",
    "\n",
    "new_input, looped = run_simulation(input.copy())\n",
    "\n",
    "[\"\".join(row) for row in new_input]"
   ]
  },
  {
   "cell_type": "code",
   "execution_count": 13,
   "metadata": {},
   "outputs": [
    {
     "data": {
      "text/plain": [
       "4559"
      ]
     },
     "execution_count": 13,
     "metadata": {},
     "output_type": "execute_result"
    }
   ],
   "source": [
    "path_pieces = np.count_nonzero((new_input == \"X\"))\n",
    "\n",
    "path_pieces"
   ]
  },
  {
   "cell_type": "markdown",
   "metadata": {},
   "source": [
    "# Part Two"
   ]
  },
  {
   "cell_type": "code",
   "execution_count": 14,
   "metadata": {},
   "outputs": [
    {
     "name": "stderr",
     "output_type": "stream",
     "text": [
      "Processing: 100%|██████████| 16900/16900 [01:43<00:00, 163.66it/s]\n"
     ]
    },
    {
     "data": {
      "text/plain": [
       "1604"
      ]
     },
     "execution_count": 14,
     "metadata": {},
     "output_type": "execute_result"
    }
   ],
   "source": [
    "possible_loop_positions = 0\n",
    "\n",
    "for idx in tqdm(np.ndindex(input.shape), total=np.prod(input.shape), desc=\"Processing\"):\n",
    "    if input[idx] == \"#\" or input[idx] == \"^\":\n",
    "        continue\n",
    "\n",
    "    input_copy = input.copy()\n",
    "    input_copy[idx] = \"#\"\n",
    "\n",
    "    possible_loop_positions += run_simulation(input_copy)[1]\n",
    "\n",
    "possible_loop_positions"
   ]
  }
 ],
 "metadata": {
  "kernelspec": {
   "display_name": "Python 3",
   "language": "python",
   "name": "python3"
  },
  "language_info": {
   "codemirror_mode": {
    "name": "ipython",
    "version": 3
   },
   "file_extension": ".py",
   "mimetype": "text/x-python",
   "name": "python",
   "nbconvert_exporter": "python",
   "pygments_lexer": "ipython3",
   "version": "3.11.11"
  }
 },
 "nbformat": 4,
 "nbformat_minor": 2
}
