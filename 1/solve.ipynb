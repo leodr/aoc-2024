{
 "cells": [
  {
   "cell_type": "markdown",
   "metadata": {},
   "source": [
    "# Part One\n"
   ]
  },
  {
   "cell_type": "code",
   "execution_count": 6,
   "metadata": {},
   "outputs": [
    {
     "data": {
      "text/plain": [
       "3574690"
      ]
     },
     "execution_count": 6,
     "metadata": {},
     "output_type": "execute_result"
    }
   ],
   "source": [
    "with open(\"input.txt\", \"r\") as file:\n",
    "    input = file.read()\n",
    "\n",
    "numbers = input.split()\n",
    "\n",
    "first_list = [int(num) for idx, num in enumerate(numbers) if idx % 2 == 0]\n",
    "second_list = [int(num) for idx, num in enumerate(numbers) if idx % 2 == 1]\n",
    "\n",
    "first_list_sorted = sorted(first_list)\n",
    "second_list_sorted = sorted(second_list)\n",
    "\n",
    "diff = 0\n",
    "\n",
    "for i, j in zip(first_list_sorted, second_list_sorted):\n",
    "    diff += abs(i - j)\n",
    "\n",
    "diff"
   ]
  },
  {
   "cell_type": "markdown",
   "metadata": {},
   "source": [
    "# Part Two\n"
   ]
  },
  {
   "cell_type": "code",
   "execution_count": 7,
   "metadata": {},
   "outputs": [
    {
     "data": {
      "text/plain": [
       "22565391"
      ]
     },
     "execution_count": 7,
     "metadata": {},
     "output_type": "execute_result"
    }
   ],
   "source": [
    "sim_score = 0\n",
    "\n",
    "for entry in first_list_sorted:\n",
    "    times = second_list_sorted.count(entry)\n",
    "\n",
    "    sim_score += entry * times\n",
    "\n",
    "sim_score"
   ]
  }
 ],
 "metadata": {
  "kernelspec": {
   "display_name": "base",
   "language": "python",
   "name": "python3"
  },
  "language_info": {
   "codemirror_mode": {
    "name": "ipython",
    "version": 3
   },
   "file_extension": ".py",
   "mimetype": "text/x-python",
   "name": "python",
   "nbconvert_exporter": "python",
   "pygments_lexer": "ipython3",
   "version": "3.12.3"
  }
 },
 "nbformat": 4,
 "nbformat_minor": 2
}
